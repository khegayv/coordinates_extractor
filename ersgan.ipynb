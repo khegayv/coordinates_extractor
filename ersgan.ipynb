{
 "cells": [
  {
   "cell_type": "code",
   "execution_count": 1,
   "metadata": {},
   "outputs": [],
   "source": [
    "import tensorflow as tf\n",
    "from tensorflow import keras\n",
    "from tensorflow.keras import layers\n",
    "from tensorflow.keras.models import Sequential\n",
    "from tensorflow.keras.models import Model\n",
    "import math\n"
   ]
  },
  {
   "cell_type": "code",
   "execution_count": 12,
   "metadata": {},
   "outputs": [],
   "source": [
    "def create_discriminator():\n",
    "    input_shape = (None, None, 3)  # Input shape for the discriminator\n",
    "    inputs = layers.Input(shape=input_shape)\n",
    "    x = layers.Conv2D(64, 3, strides=1, padding='same')(inputs)\n",
    "    x = layers.LeakyReLU(alpha=0.2)(x)\n",
    "\n",
    "    x = layers.Conv2D(64, 3, strides=2, padding='same')(x)\n",
    "    x = layers.BatchNormalization()(x)\n",
    "    x = layers.LeakyReLU(alpha=0.2)(x)\n",
    "\n",
    "    x = layers.Conv2D(128, 3, strides=1, padding='same')(x)\n",
    "    x = layers.BatchNormalization()(x)\n",
    "    x = layers.LeakyReLU(alpha=0.2)(x)\n",
    "\n",
    "    x = layers.Conv2D(128, 3, strides=2, padding='same')(x)\n",
    "    x = layers.BatchNormalization()(x)\n",
    "    x = layers.LeakyReLU(alpha=0.2)(x)\n",
    "\n",
    "    x = layers.Conv2D(256, 3, strides=1, padding='same')(x)\n",
    "    x = layers.BatchNormalization()(x)\n",
    "    x = layers.LeakyReLU(alpha=0.2)(x)\n",
    "\n",
    "    x = layers.Conv2D(256, 3, strides=2, padding='same')(x)\n",
    "    x = layers.BatchNormalization()(x)\n",
    "    x = layers.LeakyReLU(alpha=0.2)(x)\n",
    "\n",
    "    x = layers.Flatten()(x)\n",
    "    x = layers.Dense(1024)(x)\n",
    "    x = layers.LeakyReLU(alpha=0.2)(x)\n",
    "    x = layers.Dense(1, activation='sigmoid')(x)\n",
    "\n",
    "    model = Model(inputs, x, name='discriminator')\n",
    "    return model\n"
   ]
  },
  {
   "cell_type": "code",
   "execution_count": 21,
   "metadata": {},
   "outputs": [],
   "source": [
    "def create_generator():\n",
    "    inputs = layers.Input(shape=(None, None, 3))\n",
    "    x = inputs\n",
    "\n",
    "    # Encoder\n",
    "    skips = []\n",
    "    for i in range(16):\n",
    "        channels = 2 ** (i + 4)\n",
    "        x = layers.Conv2D(channels, 3, strides=1, padding='same')(x)\n",
    "        x = layers.LeakyReLU(alpha=0.2)(x)\n",
    "        if i < 8:\n",
    "            skips.append(x)\n",
    "        x = layers.Conv2D(channels, 3, strides=2, padding='same')(x)\n",
    "        x = layers.LeakyReLU(alpha=0.2)(x)\n",
    "\n",
    "    # Decoder\n",
    "    for i in reversed(range(16)):\n",
    "        channels = 2 ** (i + 4)\n",
    "        x = layers.Conv2DTranspose(channels, 3, strides=2, padding='same')(x)\n",
    "        x = layers.LeakyReLU(alpha=0.2)(x)\n",
    "        if i < 8:\n",
    "            skip = skips.pop()\n",
    "            x = layers.Concatenate()([x, skip])\n",
    "        x = layers.Conv2DTranspose(channels, 3, strides=1, padding='same')(x)\n",
    "        x = layers.LeakyReLU(alpha=0.2)(x)\n",
    "    outputs = layers.Conv2DTranspose(3, 3, strides=1, padding='same', activation='sigmoid')(x)\n",
    "    model = Model(inputs, outputs, name='generator')\n",
    "    return model\n"
   ]
  },
  {
   "cell_type": "code",
   "execution_count": 22,
   "metadata": {},
   "outputs": [],
   "source": [
    "def create_gan(generator, discriminator):\n",
    "    discriminator.trainable = False\n",
    "    gan_input = layers.Input(shape=(None, None, 3))\n",
    "    fake_output = generator(gan_input)\n",
    "    gan_output = discriminator(fake_output)\n",
    "    gan_model = Model(gan_input, gan_output, name='gan')\n",
    "    return gan_model\n"
   ]
  },
  {
   "cell_type": "code",
   "execution_count": 23,
   "metadata": {},
   "outputs": [
    {
     "name": "stdout",
     "output_type": "stream",
     "text": [
      "Found 800 files belonging to 1 classes.\n"
     ]
    }
   ],
   "source": [
    "dataset_url = 'https://data.vision.ee.ethz.ch/cvl/DIV2K/DIV2K_train_LR_bicubic_X4.zip'\n",
    "data_dir = 'C:/Users/Admin/.keras/datasets/div2k'\n",
    "batch_size = 8\n",
    "epochs = 10\n",
    "\n",
    "# Prepare dataset\n",
    "image_size = 128\n",
    "train_ds = tf.keras.preprocessing.image_dataset_from_directory(\n",
    "    data_dir,\n",
    "    label_mode=None,\n",
    "    batch_size=batch_size,\n",
    "    image_size=(image_size, image_size),\n",
    "    interpolation='bicubic',\n",
    "    seed=1337\n",
    ")\n"
   ]
  },
  {
   "cell_type": "code",
   "execution_count": 24,
   "metadata": {},
   "outputs": [],
   "source": [
    "train_ds = train_ds.map(lambda x: x / 255.0)\n"
   ]
  },
  {
   "cell_type": "code",
   "execution_count": 25,
   "metadata": {},
   "outputs": [
    {
     "ename": "ResourceExhaustedError",
     "evalue": "{{function_node __wrapped__AddV2_device_/job:localhost/replica:0/task:0/device:CPU:0}} OOM when allocating tensor with shape[3,3,4096,4096] and type float on /job:localhost/replica:0/task:0/device:CPU:0 by allocator mklcpu [Op:AddV2]",
     "output_type": "error",
     "traceback": [
      "\u001b[1;31m---------------------------------------------------------------------------\u001b[0m",
      "\u001b[1;31mResourceExhaustedError\u001b[0m                    Traceback (most recent call last)",
      "Cell \u001b[1;32mIn[25], line 1\u001b[0m\n\u001b[1;32m----> 1\u001b[0m generator \u001b[39m=\u001b[39m create_generator()\n\u001b[0;32m      2\u001b[0m discriminator \u001b[39m=\u001b[39m create_discriminator()\n\u001b[0;32m      3\u001b[0m gan \u001b[39m=\u001b[39m create_gan(generator, discriminator)\n",
      "Cell \u001b[1;32mIn[21], line 13\u001b[0m, in \u001b[0;36mcreate_generator\u001b[1;34m()\u001b[0m\n\u001b[0;32m     11\u001b[0m     \u001b[39mif\u001b[39;00m i \u001b[39m<\u001b[39m \u001b[39m8\u001b[39m:\n\u001b[0;32m     12\u001b[0m         skips\u001b[39m.\u001b[39mappend(x)\n\u001b[1;32m---> 13\u001b[0m     x \u001b[39m=\u001b[39m layers\u001b[39m.\u001b[39;49mConv2D(channels, \u001b[39m3\u001b[39;49m, strides\u001b[39m=\u001b[39;49m\u001b[39m2\u001b[39;49m, padding\u001b[39m=\u001b[39;49m\u001b[39m'\u001b[39;49m\u001b[39msame\u001b[39;49m\u001b[39m'\u001b[39;49m)(x)\n\u001b[0;32m     14\u001b[0m     x \u001b[39m=\u001b[39m layers\u001b[39m.\u001b[39mLeakyReLU(alpha\u001b[39m=\u001b[39m\u001b[39m0.2\u001b[39m)(x)\n\u001b[0;32m     16\u001b[0m \u001b[39m# Decoder\u001b[39;00m\n",
      "File \u001b[1;32mc:\\Users\\Admin\\miniconda3\\lib\\site-packages\\keras\\utils\\traceback_utils.py:70\u001b[0m, in \u001b[0;36mfilter_traceback.<locals>.error_handler\u001b[1;34m(*args, **kwargs)\u001b[0m\n\u001b[0;32m     67\u001b[0m     filtered_tb \u001b[39m=\u001b[39m _process_traceback_frames(e\u001b[39m.\u001b[39m__traceback__)\n\u001b[0;32m     68\u001b[0m     \u001b[39m# To get the full stack trace, call:\u001b[39;00m\n\u001b[0;32m     69\u001b[0m     \u001b[39m# `tf.debugging.disable_traceback_filtering()`\u001b[39;00m\n\u001b[1;32m---> 70\u001b[0m     \u001b[39mraise\u001b[39;00m e\u001b[39m.\u001b[39mwith_traceback(filtered_tb) \u001b[39mfrom\u001b[39;00m \u001b[39mNone\u001b[39m\n\u001b[0;32m     71\u001b[0m \u001b[39mfinally\u001b[39;00m:\n\u001b[0;32m     72\u001b[0m     \u001b[39mdel\u001b[39;00m filtered_tb\n",
      "File \u001b[1;32mc:\\Users\\Admin\\miniconda3\\lib\\site-packages\\keras\\backend.py:2100\u001b[0m, in \u001b[0;36mRandomGenerator.random_uniform\u001b[1;34m(self, shape, minval, maxval, dtype, nonce)\u001b[0m\n\u001b[0;32m   2098\u001b[0m     \u001b[39mif\u001b[39;00m nonce:\n\u001b[0;32m   2099\u001b[0m         seed \u001b[39m=\u001b[39m tf\u001b[39m.\u001b[39mrandom\u001b[39m.\u001b[39mexperimental\u001b[39m.\u001b[39mstateless_fold_in(seed, nonce)\n\u001b[1;32m-> 2100\u001b[0m     \u001b[39mreturn\u001b[39;00m tf\u001b[39m.\u001b[39;49mrandom\u001b[39m.\u001b[39;49mstateless_uniform(\n\u001b[0;32m   2101\u001b[0m         shape\u001b[39m=\u001b[39;49mshape,\n\u001b[0;32m   2102\u001b[0m         minval\u001b[39m=\u001b[39;49mminval,\n\u001b[0;32m   2103\u001b[0m         maxval\u001b[39m=\u001b[39;49mmaxval,\n\u001b[0;32m   2104\u001b[0m         dtype\u001b[39m=\u001b[39;49mdtype,\n\u001b[0;32m   2105\u001b[0m         seed\u001b[39m=\u001b[39;49mseed,\n\u001b[0;32m   2106\u001b[0m     )\n\u001b[0;32m   2107\u001b[0m \u001b[39mreturn\u001b[39;00m tf\u001b[39m.\u001b[39mrandom\u001b[39m.\u001b[39muniform(\n\u001b[0;32m   2108\u001b[0m     shape\u001b[39m=\u001b[39mshape,\n\u001b[0;32m   2109\u001b[0m     minval\u001b[39m=\u001b[39mminval,\n\u001b[1;32m   (...)\u001b[0m\n\u001b[0;32m   2112\u001b[0m     seed\u001b[39m=\u001b[39m\u001b[39mself\u001b[39m\u001b[39m.\u001b[39mmake_legacy_seed(),\n\u001b[0;32m   2113\u001b[0m )\n",
      "\u001b[1;31mResourceExhaustedError\u001b[0m: {{function_node __wrapped__AddV2_device_/job:localhost/replica:0/task:0/device:CPU:0}} OOM when allocating tensor with shape[3,3,4096,4096] and type float on /job:localhost/replica:0/task:0/device:CPU:0 by allocator mklcpu [Op:AddV2]"
     ]
    }
   ],
   "source": [
    "generator = create_generator()\n",
    "discriminator = create_discriminator()\n",
    "gan = create_gan(generator, discriminator)\n"
   ]
  },
  {
   "cell_type": "code",
   "execution_count": null,
   "metadata": {},
   "outputs": [],
   "source": [
    "def image_preprocessing(image):\n",
    "    gray_image = []\n",
    "    for row in image:\n",
    "        gray_row = []\n",
    "        for pixel in row:\n",
    "            gray_value = int(0.2989 * pixel[0] + 0.5870 * pixel[1] + 0.1140 * pixel[2])\n",
    "            gray_row.append(gray_value)\n",
    "        gray_image.append(gray_row)\n",
    "\n",
    "    contrast_image = []\n",
    "    for row in gray_image:\n",
    "        contrast_row = []\n",
    "        for pixel in row:\n",
    "            contrast_value = int(1.5 * (pixel - 128) + 128)\n",
    "            contrast_row.append(contrast_value)\n",
    "        contrast_image.append(contrast_row)\n",
    "\n",
    "    rotated_image = []\n",
    "    for i in range(len(contrast_image)):\n",
    "        for j in range(len(contrast_image[0])):\n",
    "            x = i * math.cos(math.pi / 4) - j * math.sin(math.pi / 4)\n",
    "            y = i * math.sin(math.pi / 4) + j * math.cos(math.pi / 4)\n",
    "            if 0 <= x < len(contrast_image) and 0 <= y < len(contrast_image[0]):\n",
    "                rotated_pixel = contrast_image[int(x)][int(y)]\n",
    "                rotated_image.append(rotated_pixel)\n",
    "    shifted_image = []\n",
    "    for i in range(len(rotated_image)):\n",
    "        for j in range(len(rotated_image[0])):\n",
    "            x = i - 50\n",
    "            y = j - 50\n",
    "            if 0 <= x < len(rotated_image) and 0 <= y < len(rotated_image[0]):\n",
    "                shifted_pixel = rotated_image[int(x)][int(y)]\n",
    "                shifted_image.append(shifted_pixel)\n",
    "\n",
    "    return shifted_image"
   ]
  }
 ],
 "metadata": {
  "kernelspec": {
   "display_name": "base",
   "language": "python",
   "name": "python3"
  },
  "language_info": {
   "codemirror_mode": {
    "name": "ipython",
    "version": 3
   },
   "file_extension": ".py",
   "mimetype": "text/x-python",
   "name": "python",
   "nbconvert_exporter": "python",
   "pygments_lexer": "ipython3",
   "version": "3.10.9"
  },
  "orig_nbformat": 4
 },
 "nbformat": 4,
 "nbformat_minor": 2
}
