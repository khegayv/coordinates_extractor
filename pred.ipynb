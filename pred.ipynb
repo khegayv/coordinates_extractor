{
 "cells": [
  {
   "cell_type": "code",
   "execution_count": 1,
   "metadata": {},
   "outputs": [],
   "source": [
    "import os\n",
    "import numpy as np\n",
    "from tensorflow.keras.models import Sequential\n",
    "from tensorflow.keras.layers import Dense, Flatten\n",
    "from tensorflow.keras.preprocessing.sequence import pad_sequences\n"
   ]
  },
  {
   "cell_type": "code",
   "execution_count": 2,
   "metadata": {},
   "outputs": [],
   "source": [
    "def load_txt_file(file_path):\n",
    "    with open(file_path, 'r') as file:\n",
    "        lines = file.readlines()\n",
    "    coords = []\n",
    "    for line in lines:\n",
    "        left_coord, right_coord = line.strip().split('),(')\n",
    "        left_x, left_y = left_coord.strip('() ').split(',')\n",
    "        right_x, right_y = right_coord.strip('() ').split(',')\n",
    "        coords.append(((int(left_x), int(left_y)),\n",
    "                      (int(right_x), int(right_y))))\n",
    "    return coords\n"
   ]
  },
  {
   "cell_type": "code",
   "execution_count": 3,
   "metadata": {},
   "outputs": [],
   "source": [
    "def preprocess_dataset(punch_dir, no_punch_dir):\n",
    "    punch_data = []\n",
    "    no_punch_data = []\n",
    "\n",
    "    # Load punch data\n",
    "    for i in range(1, 251):\n",
    "        file_path = os.path.join(punch_dir, f\"punch_coordinates{i}.txt\")\n",
    "        elbow_coords = load_txt_file(file_path)\n",
    "        punch_data.extend(elbow_coords)\n",
    "\n",
    "    for i in range(1, 251):\n",
    "        file_path = os.path.join(no_punch_dir, f\"no_punch_coordinates{i}.txt\")\n",
    "        elbow_coords = load_txt_file(file_path)\n",
    "        no_punch_data.extend(elbow_coords)\n",
    "\n",
    "    x = np.array(punch_data + no_punch_data)\n",
    "    y = np.array([1] * len(punch_data) + [0] * len(no_punch_data))\n",
    "\n",
    "    return x, y\n"
   ]
  },
  {
   "cell_type": "code",
   "execution_count": 4,
   "metadata": {},
   "outputs": [],
   "source": [
    "def build_model(max_length):\n",
    "    model = Sequential()\n",
    "    model.add(Flatten(input_shape=(max_length, 2)))\n",
    "    model.add(Dense(64, activation='relu'))\n",
    "    model.add(Dense(1, activation='sigmoid'))\n",
    "    model.compile(optimizer='adam', loss='binary_crossentropy',\n",
    "                  metrics=['accuracy'])\n",
    "    return model\n"
   ]
  },
  {
   "cell_type": "code",
   "execution_count": 5,
   "metadata": {},
   "outputs": [],
   "source": [
    "punch_dir = \"dataset/punch\"\n",
    "no_punch_dir = \"dataset/no_punch\"\n"
   ]
  },
  {
   "cell_type": "code",
   "execution_count": 6,
   "metadata": {},
   "outputs": [],
   "source": [
    "x, y = preprocess_dataset(punch_dir, no_punch_dir)\n"
   ]
  },
  {
   "cell_type": "code",
   "execution_count": 7,
   "metadata": {},
   "outputs": [],
   "source": [
    "max_length = max([len(coords) for coords in x])\n",
    "x = pad_sequences(x, maxlen=max_length, dtype='float32', padding='post')\n"
   ]
  },
  {
   "cell_type": "code",
   "execution_count": 8,
   "metadata": {},
   "outputs": [],
   "source": [
    "model = build_model(max_length)\n"
   ]
  },
  {
   "cell_type": "code",
   "execution_count": 9,
   "metadata": {},
   "outputs": [
    {
     "name": "stdout",
     "output_type": "stream",
     "text": [
      "Epoch 1/10\n",
      "953/953 [==============================] - 1s 827us/step - loss: 0.9098 - accuracy: 0.7368\n",
      "Epoch 2/10\n",
      "953/953 [==============================] - 1s 783us/step - loss: 0.5254 - accuracy: 0.7749\n",
      "Epoch 3/10\n",
      "953/953 [==============================] - 1s 744us/step - loss: 0.5110 - accuracy: 0.7791\n",
      "Epoch 4/10\n",
      "953/953 [==============================] - 1s 736us/step - loss: 0.5283 - accuracy: 0.7815\n",
      "Epoch 5/10\n",
      "953/953 [==============================] - 1s 743us/step - loss: 0.5152 - accuracy: 0.7830\n",
      "Epoch 6/10\n",
      "953/953 [==============================] - 1s 766us/step - loss: 0.5068 - accuracy: 0.7850\n",
      "Epoch 7/10\n",
      "953/953 [==============================] - 1s 742us/step - loss: 0.5036 - accuracy: 0.7861\n",
      "Epoch 8/10\n",
      "953/953 [==============================] - 1s 743us/step - loss: 0.5171 - accuracy: 0.7859\n",
      "Epoch 9/10\n",
      "953/953 [==============================] - 1s 756us/step - loss: 0.4970 - accuracy: 0.7877\n",
      "Epoch 10/10\n",
      "953/953 [==============================] - 1s 752us/step - loss: 0.4685 - accuracy: 0.7924\n"
     ]
    },
    {
     "data": {
      "text/plain": [
       "<keras.callbacks.History at 0x2627518baf0>"
      ]
     },
     "execution_count": 9,
     "metadata": {},
     "output_type": "execute_result"
    }
   ],
   "source": [
    "model.fit(x, y, epochs=10, batch_size=32)\n"
   ]
  },
  {
   "cell_type": "code",
   "execution_count": 10,
   "metadata": {},
   "outputs": [],
   "source": [
    "def predict_punch(file_path, model, max_length):\n",
    "    elbow_coords = load_txt_file(file_path)\n",
    "    x = np.array([elbow_coords])\n",
    "    x = x.reshape(-1, 2, 2)\n",
    "    x = pad_sequences(x, maxlen=max_length, dtype='float32', padding='post')\n",
    "    prediction = model.predict(x)\n",
    "    likelihood = prediction[0][0]\n",
    "    if likelihood >= 0.5:\n",
    "        print(\"a punch.\")\n",
    "    else:\n",
    "        print(\"not a punch.\")\n"
   ]
  },
  {
   "cell_type": "code",
   "execution_count": 11,
   "metadata": {},
   "outputs": [
    {
     "name": "stdout",
     "output_type": "stream",
     "text": [
      "3/3 [==============================] - 0s 1000us/step\n",
      "not a punch.\n"
     ]
    }
   ],
   "source": [
    "single_punch_file = \"./dataset/no_punch/no_punch_coordinates20.txt\"\n",
    "predict_punch(single_punch_file, model, max_length)\n"
   ]
  },
  {
   "cell_type": "code",
   "execution_count": 14,
   "metadata": {},
   "outputs": [
    {
     "name": "stdout",
     "output_type": "stream",
     "text": [
      "2/2 [==============================] - 0s 1ms/step\n",
      "a punch.\n"
     ]
    }
   ],
   "source": [
    "single_punch_file = \"./dataset/punch/punch_coordinates21.txt\"\n",
    "predict_punch(single_punch_file, model, max_length)\n"
   ]
  }
 ],
 "metadata": {
  "kernelspec": {
   "display_name": "base",
   "language": "python",
   "name": "python3"
  },
  "language_info": {
   "codemirror_mode": {
    "name": "ipython",
    "version": 3
   },
   "file_extension": ".py",
   "mimetype": "text/x-python",
   "name": "python",
   "nbconvert_exporter": "python",
   "pygments_lexer": "ipython3",
   "version": "3.10.11"
  },
  "orig_nbformat": 4
 },
 "nbformat": 4,
 "nbformat_minor": 2
}
